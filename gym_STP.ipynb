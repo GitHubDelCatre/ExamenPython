{
  "nbformat": 4,
  "nbformat_minor": 0,
  "metadata": {
    "colab": {
      "provenance": []
    },
    "kernelspec": {
      "name": "python3",
      "display_name": "Python 3"
    },
    "language_info": {
      "name": "python"
    }
  },
  "cells": [
    {
      "cell_type": "code",
      "execution_count": 17,
      "metadata": {
        "colab": {
          "base_uri": "https://localhost:8080/",
          "height": 676
        },
        "id": "jDTZeS6BBOsa",
        "outputId": "5cacda26-a8b9-48da-d30e-15837e820a93"
      },
      "outputs": [
        {
          "output_type": "stream",
          "name": "stdout",
          "text": [
            "  fecha_inscripcion       nombre  edad  peso  altura tipo_membresia\n",
            "0        2023-01-01     John Doe    30    70     175         Básica\n",
            "1        2023-01-02   Jane Smith    25    65     160        Premium\n",
            "2        2023-01-03  Bob Johnson    28    80     180         Básica\n",
            "3        2023-01-04     Lisa Ray    32    90     175        Premium\n",
            "4        2023-01-05    Alex King    29    76     165         Básica\n",
            "<class 'pandas.core.frame.DataFrame'>\n",
            "RangeIndex: 5 entries, 0 to 4\n",
            "Data columns (total 6 columns):\n",
            " #   Column             Non-Null Count  Dtype         \n",
            "---  ------             --------------  -----         \n",
            " 0   fecha_inscripcion  5 non-null      datetime64[ns]\n",
            " 1   nombre             5 non-null      object        \n",
            " 2   edad               5 non-null      int64         \n",
            " 3   peso               5 non-null      int64         \n",
            " 4   altura             5 non-null      int64         \n",
            " 5   tipo_membresia     5 non-null      object        \n",
            "dtypes: datetime64[ns](1), int64(3), object(2)\n",
            "memory usage: 368.0+ bytes\n",
            "            edad       peso      altura\n",
            "count   5.000000   5.000000    5.000000\n",
            "mean   28.800000  76.200000  171.000000\n",
            "std     2.588436   9.602083    8.215838\n",
            "min    25.000000  65.000000  160.000000\n",
            "25%    28.000000  70.000000  165.000000\n",
            "50%    29.000000  76.000000  175.000000\n",
            "75%    30.000000  80.000000  175.000000\n",
            "max    32.000000  90.000000  180.000000\n",
            "fecha_inscripcion    0\n",
            "nombre               0\n",
            "edad                 0\n",
            "peso                 0\n",
            "altura               0\n",
            "tipo_membresia       0\n",
            "dtype: int64\n",
            "  fecha_inscripcion      nombre  edad  peso  altura tipo_membresia        IMC\n",
            "1        2023-01-02  Jane Smith    25    65     160        Premium  25.390625\n",
            "3        2023-01-04    Lisa Ray    32    90     175        Premium  29.387755\n"
          ]
        },
        {
          "output_type": "display_data",
          "data": {
            "text/plain": [
              "<IPython.core.display.Javascript object>"
            ],
            "application/javascript": [
              "\n",
              "    async function download(id, filename, size) {\n",
              "      if (!google.colab.kernel.accessAllowed) {\n",
              "        return;\n",
              "      }\n",
              "      const div = document.createElement('div');\n",
              "      const label = document.createElement('label');\n",
              "      label.textContent = `Downloading \"${filename}\": `;\n",
              "      div.appendChild(label);\n",
              "      const progress = document.createElement('progress');\n",
              "      progress.max = size;\n",
              "      div.appendChild(progress);\n",
              "      document.body.appendChild(div);\n",
              "\n",
              "      const buffers = [];\n",
              "      let downloaded = 0;\n",
              "\n",
              "      const channel = await google.colab.kernel.comms.open(id);\n",
              "      // Send a message to notify the kernel that we're ready.\n",
              "      channel.send({})\n",
              "\n",
              "      for await (const message of channel.messages) {\n",
              "        // Send a message to notify the kernel that we're ready.\n",
              "        channel.send({})\n",
              "        if (message.buffers) {\n",
              "          for (const buffer of message.buffers) {\n",
              "            buffers.push(buffer);\n",
              "            downloaded += buffer.byteLength;\n",
              "            progress.value = downloaded;\n",
              "          }\n",
              "        }\n",
              "      }\n",
              "      const blob = new Blob(buffers, {type: 'application/binary'});\n",
              "      const a = document.createElement('a');\n",
              "      a.href = window.URL.createObjectURL(blob);\n",
              "      a.download = filename;\n",
              "      div.appendChild(a);\n",
              "      a.click();\n",
              "      div.remove();\n",
              "    }\n",
              "  "
            ]
          },
          "metadata": {}
        },
        {
          "output_type": "display_data",
          "data": {
            "text/plain": [
              "<IPython.core.display.Javascript object>"
            ],
            "application/javascript": [
              "download(\"download_7beff851-a4b0-43a8-ba44-79c30833aa7a\", \"datos_gym_modificado.csv\", 352)"
            ]
          },
          "metadata": {}
        }
      ],
      "source": [
        "from google.colab import files\n",
        "import pandas as pd\n",
        "import json\n",
        "import io\n",
        "\n",
        "# Datos de ejemplo en formato JSON\n",
        "datos_json = json.dumps([\n",
        "    {\"fecha_inscripcion\": \"2023-01-01\", \"nombre\": \"John Doe\", \"edad\": 30, \"peso\": 70, \"altura\": 175, \"tipo_membresia\": \"Básica\"},\n",
        "    {\"fecha_inscripcion\": \"2023-01-02\", \"nombre\": \"Jane Smith\", \"edad\": 25, \"peso\": 65, \"altura\": 160, \"tipo_membresia\": \"Premium\"},\n",
        "    {\"fecha_inscripcion\": \"2023-01-03\", \"nombre\": \"Bob Johnson\", \"edad\": 28, \"peso\": 80, \"altura\": 180, \"tipo_membresia\": \"Básica\"},\n",
        "    {\"fecha_inscripcion\": \"2023-01-04\", \"nombre\": \"Lisa Ray\", \"edad\": 32, \"peso\": 90, \"altura\": 175, \"tipo_membresia\": \"Premium\"},\n",
        "    {\"fecha_inscripcion\": \"2023-01-05\", \"nombre\": \"Alex King\", \"edad\": 29, \"peso\": 76, \"altura\": 165, \"tipo_membresia\": \"Básica\"}\n",
        "])\n",
        "\n",
        "# Convertir JSON a DataFrame\n",
        "df_gym = pd.read_json(io.StringIO(datos_json), convert_dates=['fecha_inscripcion'])\n",
        "\n",
        "# Muestra las primeras 5 filas del DataFrame\n",
        "print(df_gym.head())\n",
        "\n",
        "# Información general sobre el DataFrame\n",
        "df_gym.info()\n",
        "\n",
        "# Estadísticas descriptivas para las columnas numéricas\n",
        "print(df_gym.describe())\n",
        "\n",
        "# Revisa si hay valores nulos\n",
        "print(df_gym.isnull().sum())\n",
        "\n",
        "# Calcular IMC = peso (kg) / altura (m)^2\n",
        "df_gym['IMC'] = df_gym['peso'] / (df_gym['altura']/100) ** 2\n",
        "\n",
        "# Filtra por tipo de membresía 'Premium'\n",
        "df_premium = df_gym[df_gym['tipo_membresia'] == 'Premium']\n",
        "print(df_premium)\n",
        "\n",
        "# Guarda el DataFrame modificado en un nuevo archivo CSV\n",
        "df_gym.to_csv('datos_gym_modificado.csv', index=False)\n",
        "\n",
        "# Descarga el archivo modificado\n",
        "files.download('datos_gym_modificado.csv')\n"
      ]
    }
  ]
}